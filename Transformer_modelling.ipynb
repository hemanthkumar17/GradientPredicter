{
  "metadata": {
    "kernelspec": {
      "display_name": "Python 3",
      "name": "python3"
    },
    "language_info": {
      "name": "python",
      "version": "3.10.13",
      "mimetype": "text/x-python",
      "codemirror_mode": {
        "name": "ipython",
        "version": 3
      },
      "pygments_lexer": "ipython3",
      "nbconvert_exporter": "python",
      "file_extension": ".py"
    },
    "kaggle": {
      "accelerator": "gpu",
      "dataSources": [
        {
          "sourceId": 7808063,
          "sourceType": "datasetVersion",
          "datasetId": 4572858
        }
      ],
      "dockerImageVersionId": 30665,
      "isInternetEnabled": true,
      "language": "python",
      "sourceType": "notebook",
      "isGpuEnabled": true
    },
    "colab": {
      "provenance": [],
      "gpuType": "T4",
      "include_colab_link": true
    },
    "accelerator": "GPU",
    "widgets": {
      "application/vnd.jupyter.widget-state+json": {
        "17f727a245bb48109b770389d2a4d11e": {
          "model_module": "@jupyter-widgets/controls",
          "model_name": "HBoxModel",
          "model_module_version": "1.5.0",
          "state": {
            "_dom_classes": [],
            "_model_module": "@jupyter-widgets/controls",
            "_model_module_version": "1.5.0",
            "_model_name": "HBoxModel",
            "_view_count": null,
            "_view_module": "@jupyter-widgets/controls",
            "_view_module_version": "1.5.0",
            "_view_name": "HBoxView",
            "box_style": "",
            "children": [
              "IPY_MODEL_ad27682b56e9407d81e741a65c00f0f2",
              "IPY_MODEL_b08a1d8157a54d369fc1b17937f7867b",
              "IPY_MODEL_945e5eaf2a464bbfb4c116e7cae0dcae"
            ],
            "layout": "IPY_MODEL_3fa32124f391448394100d50271b2ce0"
          }
        },
        "ad27682b56e9407d81e741a65c00f0f2": {
          "model_module": "@jupyter-widgets/controls",
          "model_name": "HTMLModel",
          "model_module_version": "1.5.0",
          "state": {
            "_dom_classes": [],
            "_model_module": "@jupyter-widgets/controls",
            "_model_module_version": "1.5.0",
            "_model_name": "HTMLModel",
            "_view_count": null,
            "_view_module": "@jupyter-widgets/controls",
            "_view_module_version": "1.5.0",
            "_view_name": "HTMLView",
            "description": "",
            "description_tooltip": null,
            "layout": "IPY_MODEL_d981f64e11a940ceb9c59f4779b8f23f",
            "placeholder": "​",
            "style": "IPY_MODEL_7c59414b841f49fd90f703739382d9a0",
            "value": "Map: 100%"
          }
        },
        "b08a1d8157a54d369fc1b17937f7867b": {
          "model_module": "@jupyter-widgets/controls",
          "model_name": "FloatProgressModel",
          "model_module_version": "1.5.0",
          "state": {
            "_dom_classes": [],
            "_model_module": "@jupyter-widgets/controls",
            "_model_module_version": "1.5.0",
            "_model_name": "FloatProgressModel",
            "_view_count": null,
            "_view_module": "@jupyter-widgets/controls",
            "_view_module_version": "1.5.0",
            "_view_name": "ProgressView",
            "bar_style": "success",
            "description": "",
            "description_tooltip": null,
            "layout": "IPY_MODEL_2bd42f02ca8a4711a77cc06f58ce8156",
            "max": 900000,
            "min": 0,
            "orientation": "horizontal",
            "style": "IPY_MODEL_528b26acaec14f7a87eb1aff84b6c18c",
            "value": 900000
          }
        },
        "945e5eaf2a464bbfb4c116e7cae0dcae": {
          "model_module": "@jupyter-widgets/controls",
          "model_name": "HTMLModel",
          "model_module_version": "1.5.0",
          "state": {
            "_dom_classes": [],
            "_model_module": "@jupyter-widgets/controls",
            "_model_module_version": "1.5.0",
            "_model_name": "HTMLModel",
            "_view_count": null,
            "_view_module": "@jupyter-widgets/controls",
            "_view_module_version": "1.5.0",
            "_view_name": "HTMLView",
            "description": "",
            "description_tooltip": null,
            "layout": "IPY_MODEL_1e497fc307a442faad16522606215f22",
            "placeholder": "​",
            "style": "IPY_MODEL_62cd2d85e70b46228839707d76a9544f",
            "value": " 900000/900000 [09:15&lt;00:00, 1885.52 examples/s]"
          }
        },
        "3fa32124f391448394100d50271b2ce0": {
          "model_module": "@jupyter-widgets/base",
          "model_name": "LayoutModel",
          "model_module_version": "1.2.0",
          "state": {
            "_model_module": "@jupyter-widgets/base",
            "_model_module_version": "1.2.0",
            "_model_name": "LayoutModel",
            "_view_count": null,
            "_view_module": "@jupyter-widgets/base",
            "_view_module_version": "1.2.0",
            "_view_name": "LayoutView",
            "align_content": null,
            "align_items": null,
            "align_self": null,
            "border": null,
            "bottom": null,
            "display": null,
            "flex": null,
            "flex_flow": null,
            "grid_area": null,
            "grid_auto_columns": null,
            "grid_auto_flow": null,
            "grid_auto_rows": null,
            "grid_column": null,
            "grid_gap": null,
            "grid_row": null,
            "grid_template_areas": null,
            "grid_template_columns": null,
            "grid_template_rows": null,
            "height": null,
            "justify_content": null,
            "justify_items": null,
            "left": null,
            "margin": null,
            "max_height": null,
            "max_width": null,
            "min_height": null,
            "min_width": null,
            "object_fit": null,
            "object_position": null,
            "order": null,
            "overflow": null,
            "overflow_x": null,
            "overflow_y": null,
            "padding": null,
            "right": null,
            "top": null,
            "visibility": null,
            "width": null
          }
        },
        "d981f64e11a940ceb9c59f4779b8f23f": {
          "model_module": "@jupyter-widgets/base",
          "model_name": "LayoutModel",
          "model_module_version": "1.2.0",
          "state": {
            "_model_module": "@jupyter-widgets/base",
            "_model_module_version": "1.2.0",
            "_model_name": "LayoutModel",
            "_view_count": null,
            "_view_module": "@jupyter-widgets/base",
            "_view_module_version": "1.2.0",
            "_view_name": "LayoutView",
            "align_content": null,
            "align_items": null,
            "align_self": null,
            "border": null,
            "bottom": null,
            "display": null,
            "flex": null,
            "flex_flow": null,
            "grid_area": null,
            "grid_auto_columns": null,
            "grid_auto_flow": null,
            "grid_auto_rows": null,
            "grid_column": null,
            "grid_gap": null,
            "grid_row": null,
            "grid_template_areas": null,
            "grid_template_columns": null,
            "grid_template_rows": null,
            "height": null,
            "justify_content": null,
            "justify_items": null,
            "left": null,
            "margin": null,
            "max_height": null,
            "max_width": null,
            "min_height": null,
            "min_width": null,
            "object_fit": null,
            "object_position": null,
            "order": null,
            "overflow": null,
            "overflow_x": null,
            "overflow_y": null,
            "padding": null,
            "right": null,
            "top": null,
            "visibility": null,
            "width": null
          }
        },
        "7c59414b841f49fd90f703739382d9a0": {
          "model_module": "@jupyter-widgets/controls",
          "model_name": "DescriptionStyleModel",
          "model_module_version": "1.5.0",
          "state": {
            "_model_module": "@jupyter-widgets/controls",
            "_model_module_version": "1.5.0",
            "_model_name": "DescriptionStyleModel",
            "_view_count": null,
            "_view_module": "@jupyter-widgets/base",
            "_view_module_version": "1.2.0",
            "_view_name": "StyleView",
            "description_width": ""
          }
        },
        "2bd42f02ca8a4711a77cc06f58ce8156": {
          "model_module": "@jupyter-widgets/base",
          "model_name": "LayoutModel",
          "model_module_version": "1.2.0",
          "state": {
            "_model_module": "@jupyter-widgets/base",
            "_model_module_version": "1.2.0",
            "_model_name": "LayoutModel",
            "_view_count": null,
            "_view_module": "@jupyter-widgets/base",
            "_view_module_version": "1.2.0",
            "_view_name": "LayoutView",
            "align_content": null,
            "align_items": null,
            "align_self": null,
            "border": null,
            "bottom": null,
            "display": null,
            "flex": null,
            "flex_flow": null,
            "grid_area": null,
            "grid_auto_columns": null,
            "grid_auto_flow": null,
            "grid_auto_rows": null,
            "grid_column": null,
            "grid_gap": null,
            "grid_row": null,
            "grid_template_areas": null,
            "grid_template_columns": null,
            "grid_template_rows": null,
            "height": null,
            "justify_content": null,
            "justify_items": null,
            "left": null,
            "margin": null,
            "max_height": null,
            "max_width": null,
            "min_height": null,
            "min_width": null,
            "object_fit": null,
            "object_position": null,
            "order": null,
            "overflow": null,
            "overflow_x": null,
            "overflow_y": null,
            "padding": null,
            "right": null,
            "top": null,
            "visibility": null,
            "width": null
          }
        },
        "528b26acaec14f7a87eb1aff84b6c18c": {
          "model_module": "@jupyter-widgets/controls",
          "model_name": "ProgressStyleModel",
          "model_module_version": "1.5.0",
          "state": {
            "_model_module": "@jupyter-widgets/controls",
            "_model_module_version": "1.5.0",
            "_model_name": "ProgressStyleModel",
            "_view_count": null,
            "_view_module": "@jupyter-widgets/base",
            "_view_module_version": "1.2.0",
            "_view_name": "StyleView",
            "bar_color": null,
            "description_width": ""
          }
        },
        "1e497fc307a442faad16522606215f22": {
          "model_module": "@jupyter-widgets/base",
          "model_name": "LayoutModel",
          "model_module_version": "1.2.0",
          "state": {
            "_model_module": "@jupyter-widgets/base",
            "_model_module_version": "1.2.0",
            "_model_name": "LayoutModel",
            "_view_count": null,
            "_view_module": "@jupyter-widgets/base",
            "_view_module_version": "1.2.0",
            "_view_name": "LayoutView",
            "align_content": null,
            "align_items": null,
            "align_self": null,
            "border": null,
            "bottom": null,
            "display": null,
            "flex": null,
            "flex_flow": null,
            "grid_area": null,
            "grid_auto_columns": null,
            "grid_auto_flow": null,
            "grid_auto_rows": null,
            "grid_column": null,
            "grid_gap": null,
            "grid_row": null,
            "grid_template_areas": null,
            "grid_template_columns": null,
            "grid_template_rows": null,
            "height": null,
            "justify_content": null,
            "justify_items": null,
            "left": null,
            "margin": null,
            "max_height": null,
            "max_width": null,
            "min_height": null,
            "min_width": null,
            "object_fit": null,
            "object_position": null,
            "order": null,
            "overflow": null,
            "overflow_x": null,
            "overflow_y": null,
            "padding": null,
            "right": null,
            "top": null,
            "visibility": null,
            "width": null
          }
        },
        "62cd2d85e70b46228839707d76a9544f": {
          "model_module": "@jupyter-widgets/controls",
          "model_name": "DescriptionStyleModel",
          "model_module_version": "1.5.0",
          "state": {
            "_model_module": "@jupyter-widgets/controls",
            "_model_module_version": "1.5.0",
            "_model_name": "DescriptionStyleModel",
            "_view_count": null,
            "_view_module": "@jupyter-widgets/base",
            "_view_module_version": "1.2.0",
            "_view_name": "StyleView",
            "description_width": ""
          }
        },
        "48b795a4eaa4437eb5570571977e8f21": {
          "model_module": "@jupyter-widgets/controls",
          "model_name": "HBoxModel",
          "model_module_version": "1.5.0",
          "state": {
            "_dom_classes": [],
            "_model_module": "@jupyter-widgets/controls",
            "_model_module_version": "1.5.0",
            "_model_name": "HBoxModel",
            "_view_count": null,
            "_view_module": "@jupyter-widgets/controls",
            "_view_module_version": "1.5.0",
            "_view_name": "HBoxView",
            "box_style": "",
            "children": [
              "IPY_MODEL_d923ee02d482453ba8309c3bcb93f197",
              "IPY_MODEL_0cf7a92ac61e438ab49e812c17f3ea10",
              "IPY_MODEL_bd190c6fa320448bb631c46518d9fcad"
            ],
            "layout": "IPY_MODEL_596d2673c4ca4d47a4e046bc781eef41"
          }
        },
        "d923ee02d482453ba8309c3bcb93f197": {
          "model_module": "@jupyter-widgets/controls",
          "model_name": "HTMLModel",
          "model_module_version": "1.5.0",
          "state": {
            "_dom_classes": [],
            "_model_module": "@jupyter-widgets/controls",
            "_model_module_version": "1.5.0",
            "_model_name": "HTMLModel",
            "_view_count": null,
            "_view_module": "@jupyter-widgets/controls",
            "_view_module_version": "1.5.0",
            "_view_name": "HTMLView",
            "description": "",
            "description_tooltip": null,
            "layout": "IPY_MODEL_43b30ca9b841471faf37933b90e2ff7d",
            "placeholder": "​",
            "style": "IPY_MODEL_23ebae68e8374d47a32014e0e5b358b3",
            "value": "Map: 100%"
          }
        },
        "0cf7a92ac61e438ab49e812c17f3ea10": {
          "model_module": "@jupyter-widgets/controls",
          "model_name": "FloatProgressModel",
          "model_module_version": "1.5.0",
          "state": {
            "_dom_classes": [],
            "_model_module": "@jupyter-widgets/controls",
            "_model_module_version": "1.5.0",
            "_model_name": "FloatProgressModel",
            "_view_count": null,
            "_view_module": "@jupyter-widgets/controls",
            "_view_module_version": "1.5.0",
            "_view_name": "ProgressView",
            "bar_style": "success",
            "description": "",
            "description_tooltip": null,
            "layout": "IPY_MODEL_2d0d967b8b694a8c8d1a79481a087f3a",
            "max": 100000,
            "min": 0,
            "orientation": "horizontal",
            "style": "IPY_MODEL_e5327deb30234caf97dd6fd6a7a16fa4",
            "value": 100000
          }
        },
        "bd190c6fa320448bb631c46518d9fcad": {
          "model_module": "@jupyter-widgets/controls",
          "model_name": "HTMLModel",
          "model_module_version": "1.5.0",
          "state": {
            "_dom_classes": [],
            "_model_module": "@jupyter-widgets/controls",
            "_model_module_version": "1.5.0",
            "_model_name": "HTMLModel",
            "_view_count": null,
            "_view_module": "@jupyter-widgets/controls",
            "_view_module_version": "1.5.0",
            "_view_name": "HTMLView",
            "description": "",
            "description_tooltip": null,
            "layout": "IPY_MODEL_af0dce6a7977488bab7417125ce7ea4d",
            "placeholder": "​",
            "style": "IPY_MODEL_4ea709a778054086b3682106c74c9573",
            "value": " 100000/100000 [01:01&lt;00:00, 1812.36 examples/s]"
          }
        },
        "596d2673c4ca4d47a4e046bc781eef41": {
          "model_module": "@jupyter-widgets/base",
          "model_name": "LayoutModel",
          "model_module_version": "1.2.0",
          "state": {
            "_model_module": "@jupyter-widgets/base",
            "_model_module_version": "1.2.0",
            "_model_name": "LayoutModel",
            "_view_count": null,
            "_view_module": "@jupyter-widgets/base",
            "_view_module_version": "1.2.0",
            "_view_name": "LayoutView",
            "align_content": null,
            "align_items": null,
            "align_self": null,
            "border": null,
            "bottom": null,
            "display": null,
            "flex": null,
            "flex_flow": null,
            "grid_area": null,
            "grid_auto_columns": null,
            "grid_auto_flow": null,
            "grid_auto_rows": null,
            "grid_column": null,
            "grid_gap": null,
            "grid_row": null,
            "grid_template_areas": null,
            "grid_template_columns": null,
            "grid_template_rows": null,
            "height": null,
            "justify_content": null,
            "justify_items": null,
            "left": null,
            "margin": null,
            "max_height": null,
            "max_width": null,
            "min_height": null,
            "min_width": null,
            "object_fit": null,
            "object_position": null,
            "order": null,
            "overflow": null,
            "overflow_x": null,
            "overflow_y": null,
            "padding": null,
            "right": null,
            "top": null,
            "visibility": null,
            "width": null
          }
        },
        "43b30ca9b841471faf37933b90e2ff7d": {
          "model_module": "@jupyter-widgets/base",
          "model_name": "LayoutModel",
          "model_module_version": "1.2.0",
          "state": {
            "_model_module": "@jupyter-widgets/base",
            "_model_module_version": "1.2.0",
            "_model_name": "LayoutModel",
            "_view_count": null,
            "_view_module": "@jupyter-widgets/base",
            "_view_module_version": "1.2.0",
            "_view_name": "LayoutView",
            "align_content": null,
            "align_items": null,
            "align_self": null,
            "border": null,
            "bottom": null,
            "display": null,
            "flex": null,
            "flex_flow": null,
            "grid_area": null,
            "grid_auto_columns": null,
            "grid_auto_flow": null,
            "grid_auto_rows": null,
            "grid_column": null,
            "grid_gap": null,
            "grid_row": null,
            "grid_template_areas": null,
            "grid_template_columns": null,
            "grid_template_rows": null,
            "height": null,
            "justify_content": null,
            "justify_items": null,
            "left": null,
            "margin": null,
            "max_height": null,
            "max_width": null,
            "min_height": null,
            "min_width": null,
            "object_fit": null,
            "object_position": null,
            "order": null,
            "overflow": null,
            "overflow_x": null,
            "overflow_y": null,
            "padding": null,
            "right": null,
            "top": null,
            "visibility": null,
            "width": null
          }
        },
        "23ebae68e8374d47a32014e0e5b358b3": {
          "model_module": "@jupyter-widgets/controls",
          "model_name": "DescriptionStyleModel",
          "model_module_version": "1.5.0",
          "state": {
            "_model_module": "@jupyter-widgets/controls",
            "_model_module_version": "1.5.0",
            "_model_name": "DescriptionStyleModel",
            "_view_count": null,
            "_view_module": "@jupyter-widgets/base",
            "_view_module_version": "1.2.0",
            "_view_name": "StyleView",
            "description_width": ""
          }
        },
        "2d0d967b8b694a8c8d1a79481a087f3a": {
          "model_module": "@jupyter-widgets/base",
          "model_name": "LayoutModel",
          "model_module_version": "1.2.0",
          "state": {
            "_model_module": "@jupyter-widgets/base",
            "_model_module_version": "1.2.0",
            "_model_name": "LayoutModel",
            "_view_count": null,
            "_view_module": "@jupyter-widgets/base",
            "_view_module_version": "1.2.0",
            "_view_name": "LayoutView",
            "align_content": null,
            "align_items": null,
            "align_self": null,
            "border": null,
            "bottom": null,
            "display": null,
            "flex": null,
            "flex_flow": null,
            "grid_area": null,
            "grid_auto_columns": null,
            "grid_auto_flow": null,
            "grid_auto_rows": null,
            "grid_column": null,
            "grid_gap": null,
            "grid_row": null,
            "grid_template_areas": null,
            "grid_template_columns": null,
            "grid_template_rows": null,
            "height": null,
            "justify_content": null,
            "justify_items": null,
            "left": null,
            "margin": null,
            "max_height": null,
            "max_width": null,
            "min_height": null,
            "min_width": null,
            "object_fit": null,
            "object_position": null,
            "order": null,
            "overflow": null,
            "overflow_x": null,
            "overflow_y": null,
            "padding": null,
            "right": null,
            "top": null,
            "visibility": null,
            "width": null
          }
        },
        "e5327deb30234caf97dd6fd6a7a16fa4": {
          "model_module": "@jupyter-widgets/controls",
          "model_name": "ProgressStyleModel",
          "model_module_version": "1.5.0",
          "state": {
            "_model_module": "@jupyter-widgets/controls",
            "_model_module_version": "1.5.0",
            "_model_name": "ProgressStyleModel",
            "_view_count": null,
            "_view_module": "@jupyter-widgets/base",
            "_view_module_version": "1.2.0",
            "_view_name": "StyleView",
            "bar_color": null,
            "description_width": ""
          }
        },
        "af0dce6a7977488bab7417125ce7ea4d": {
          "model_module": "@jupyter-widgets/base",
          "model_name": "LayoutModel",
          "model_module_version": "1.2.0",
          "state": {
            "_model_module": "@jupyter-widgets/base",
            "_model_module_version": "1.2.0",
            "_model_name": "LayoutModel",
            "_view_count": null,
            "_view_module": "@jupyter-widgets/base",
            "_view_module_version": "1.2.0",
            "_view_name": "LayoutView",
            "align_content": null,
            "align_items": null,
            "align_self": null,
            "border": null,
            "bottom": null,
            "display": null,
            "flex": null,
            "flex_flow": null,
            "grid_area": null,
            "grid_auto_columns": null,
            "grid_auto_flow": null,
            "grid_auto_rows": null,
            "grid_column": null,
            "grid_gap": null,
            "grid_row": null,
            "grid_template_areas": null,
            "grid_template_columns": null,
            "grid_template_rows": null,
            "height": null,
            "justify_content": null,
            "justify_items": null,
            "left": null,
            "margin": null,
            "max_height": null,
            "max_width": null,
            "min_height": null,
            "min_width": null,
            "object_fit": null,
            "object_position": null,
            "order": null,
            "overflow": null,
            "overflow_x": null,
            "overflow_y": null,
            "padding": null,
            "right": null,
            "top": null,
            "visibility": null,
            "width": null
          }
        },
        "4ea709a778054086b3682106c74c9573": {
          "model_module": "@jupyter-widgets/controls",
          "model_name": "DescriptionStyleModel",
          "model_module_version": "1.5.0",
          "state": {
            "_model_module": "@jupyter-widgets/controls",
            "_model_module_version": "1.5.0",
            "_model_name": "DescriptionStyleModel",
            "_view_count": null,
            "_view_module": "@jupyter-widgets/base",
            "_view_module_version": "1.2.0",
            "_view_name": "StyleView",
            "description_width": ""
          }
        }
      }
    }
  },
  "nbformat_minor": 0,
  "nbformat": 4,
  "cells": [
    {
      "cell_type": "markdown",
      "metadata": {
        "id": "view-in-github",
        "colab_type": "text"
      },
      "source": [
        "<a href=\"https://colab.research.google.com/github/hemanthkumar17/Transformer-Workflow/blob/main/Transformer_modelling.ipynb\" target=\"_parent\"><img src=\"https://colab.research.google.com/assets/colab-badge.svg\" alt=\"Open In Colab\"/></a>"
      ]
    },
    {
      "cell_type": "code",
      "source": [
        "wandb_api = \"Insert API Key here\"\n",
        "file_path = \"Insert data file path here\""
      ],
      "metadata": {
        "id": "h9UyqWpipvlY"
      },
      "execution_count": null,
      "outputs": []
    },
    {
      "cell_type": "code",
      "source": [
        "load_file = lambda filename: open(filename).read()  # Define your loading function here\n",
        "functions, true_derivatives = load_file(file_path)"
      ],
      "metadata": {
        "_uuid": "04d2dfcb-8f52-4e36-bf18-e4ceb617aa97",
        "_cell_guid": "fb06f1fe-31f3-4738-b281-4b6df7879724",
        "jupyter": {
          "outputs_hidden": false
        },
        "execution": {
          "iopub.status.busy": "2024-03-11T18:20:24.348224Z",
          "iopub.execute_input": "2024-03-11T18:20:24.348566Z",
          "iopub.status.idle": "2024-03-11T18:20:27.339354Z",
          "shell.execute_reply.started": "2024-03-11T18:20:24.348537Z",
          "shell.execute_reply": "2024-03-11T18:20:27.338269Z"
        },
        "trusted": true,
        "id": "DIlJvGAO8eJD"
      },
      "execution_count": null,
      "outputs": []
    },
    {
      "cell_type": "code",
      "source": [
        "!pip install wandb\n",
        "import wandb\n",
        "wandb.login(key=wandb_api)"
      ],
      "metadata": {
        "_uuid": "6a991afb-93d8-42d0-8c9c-3fd5d82c61c9",
        "_cell_guid": "b61938de-77af-4783-8e52-c657d0bc5a30",
        "jupyter": {
          "outputs_hidden": false
        },
        "execution": {
          "iopub.status.busy": "2024-03-11T18:20:27.34038Z",
          "iopub.execute_input": "2024-03-11T18:20:27.34065Z",
          "iopub.status.idle": "2024-03-11T18:20:44.561102Z",
          "shell.execute_reply.started": "2024-03-11T18:20:27.340627Z",
          "shell.execute_reply": "2024-03-11T18:20:44.560022Z"
        },
        "trusted": true,
        "colab": {
          "base_uri": "https://localhost:8080/"
        },
        "id": "hHfVQj9h8eJD",
        "outputId": "3fb44b87-3508-411c-a3c4-d9c4b49e9527"
      },
      "execution_count": null,
      "outputs": [
        {
          "output_type": "stream",
          "name": "stdout",
          "text": [
            "Requirement already satisfied: wandb in /usr/local/lib/python3.10/dist-packages (0.16.4)\n",
            "Requirement already satisfied: Click!=8.0.0,>=7.1 in /usr/local/lib/python3.10/dist-packages (from wandb) (8.1.7)\n",
            "Requirement already satisfied: GitPython!=3.1.29,>=1.0.0 in /usr/local/lib/python3.10/dist-packages (from wandb) (3.1.42)\n",
            "Requirement already satisfied: requests<3,>=2.0.0 in /usr/local/lib/python3.10/dist-packages (from wandb) (2.31.0)\n",
            "Requirement already satisfied: psutil>=5.0.0 in /usr/local/lib/python3.10/dist-packages (from wandb) (5.9.5)\n",
            "Requirement already satisfied: sentry-sdk>=1.0.0 in /usr/local/lib/python3.10/dist-packages (from wandb) (1.41.0)\n",
            "Requirement already satisfied: docker-pycreds>=0.4.0 in /usr/local/lib/python3.10/dist-packages (from wandb) (0.4.0)\n",
            "Requirement already satisfied: PyYAML in /usr/local/lib/python3.10/dist-packages (from wandb) (6.0.1)\n",
            "Requirement already satisfied: setproctitle in /usr/local/lib/python3.10/dist-packages (from wandb) (1.3.3)\n",
            "Requirement already satisfied: setuptools in /usr/local/lib/python3.10/dist-packages (from wandb) (67.7.2)\n",
            "Requirement already satisfied: appdirs>=1.4.3 in /usr/local/lib/python3.10/dist-packages (from wandb) (1.4.4)\n",
            "Requirement already satisfied: protobuf!=4.21.0,<5,>=3.19.0 in /usr/local/lib/python3.10/dist-packages (from wandb) (3.20.3)\n",
            "Requirement already satisfied: six>=1.4.0 in /usr/local/lib/python3.10/dist-packages (from docker-pycreds>=0.4.0->wandb) (1.16.0)\n",
            "Requirement already satisfied: gitdb<5,>=4.0.1 in /usr/local/lib/python3.10/dist-packages (from GitPython!=3.1.29,>=1.0.0->wandb) (4.0.11)\n",
            "Requirement already satisfied: charset-normalizer<4,>=2 in /usr/local/lib/python3.10/dist-packages (from requests<3,>=2.0.0->wandb) (3.3.2)\n",
            "Requirement already satisfied: idna<4,>=2.5 in /usr/local/lib/python3.10/dist-packages (from requests<3,>=2.0.0->wandb) (3.6)\n",
            "Requirement already satisfied: urllib3<3,>=1.21.1 in /usr/local/lib/python3.10/dist-packages (from requests<3,>=2.0.0->wandb) (2.0.7)\n",
            "Requirement already satisfied: certifi>=2017.4.17 in /usr/local/lib/python3.10/dist-packages (from requests<3,>=2.0.0->wandb) (2024.2.2)\n",
            "Requirement already satisfied: smmap<6,>=3.0.1 in /usr/local/lib/python3.10/dist-packages (from gitdb<5,>=4.0.1->GitPython!=3.1.29,>=1.0.0->wandb) (5.0.1)\n"
          ]
        },
        {
          "output_type": "stream",
          "name": "stderr",
          "text": [
            "\u001b[34m\u001b[1mwandb\u001b[0m: Currently logged in as: \u001b[33mhj51\u001b[0m (\u001b[33mopt-prune\u001b[0m). Use \u001b[1m`wandb login --relogin`\u001b[0m to force relogin\n",
            "\u001b[34m\u001b[1mwandb\u001b[0m: \u001b[33mWARNING\u001b[0m If you're specifying your api key in code, ensure this code is not shared publicly.\n",
            "\u001b[34m\u001b[1mwandb\u001b[0m: \u001b[33mWARNING\u001b[0m Consider setting the WANDB_API_KEY environment variable, or running `wandb login` from the command line.\n",
            "\u001b[34m\u001b[1mwandb\u001b[0m: Appending key for api.wandb.ai to your netrc file: /root/.netrc\n"
          ]
        },
        {
          "output_type": "execute_result",
          "data": {
            "text/plain": [
              "True"
            ]
          },
          "metadata": {},
          "execution_count": 4
        }
      ]
    },
    {
      "cell_type": "code",
      "source": [
        "import os\n",
        "os.environ[\"WANDB_PROJECT\"]=\"grad\""
      ],
      "metadata": {
        "_uuid": "cf719db6-26b7-4b4f-8099-8e99cd03025b",
        "_cell_guid": "d955db2d-85dc-44b2-a960-4ab8e3971b26",
        "jupyter": {
          "outputs_hidden": false
        },
        "execution": {
          "iopub.status.busy": "2024-03-11T18:20:44.563977Z",
          "iopub.execute_input": "2024-03-11T18:20:44.56446Z",
          "iopub.status.idle": "2024-03-11T18:20:44.569513Z",
          "shell.execute_reply.started": "2024-03-11T18:20:44.564432Z",
          "shell.execute_reply": "2024-03-11T18:20:44.56817Z"
        },
        "trusted": true,
        "id": "kLJvkdGD8eJE"
      },
      "execution_count": null,
      "outputs": []
    },
    {
      "cell_type": "code",
      "source": [
        "import torch\n",
        "device = torch.device(\"cuda\" if torch.cuda.is_available() else \"cpu\")\n",
        "# device = \"cpu\""
      ],
      "metadata": {
        "execution": {
          "iopub.status.busy": "2024-03-11T18:20:44.570701Z",
          "iopub.execute_input": "2024-03-11T18:20:44.571036Z",
          "iopub.status.idle": "2024-03-11T18:20:48.1243Z",
          "shell.execute_reply.started": "2024-03-11T18:20:44.571006Z",
          "shell.execute_reply": "2024-03-11T18:20:48.123284Z"
        },
        "trusted": true,
        "id": "30b-7jeV8eJE"
      },
      "execution_count": null,
      "outputs": []
    },
    {
      "cell_type": "markdown",
      "source": [
        "# Tokenizer"
      ],
      "metadata": {
        "_uuid": "88e722e3-3dee-4040-a2ac-a6be83827863",
        "_cell_guid": "09fc0f2a-8f70-4b72-be4e-57f5074a7248",
        "trusted": true,
        "id": "qn2lSbEv8eJF"
      }
    },
    {
      "cell_type": "code",
      "source": [
        "chars = list(set(\"\".join(functions) + \"\".join(true_derivatives)))"
      ],
      "metadata": {
        "_uuid": "920f8427-3cc9-439f-9473-60c730ca4f3e",
        "_cell_guid": "c0956f16-2f89-49ad-bdf0-3d4241238877",
        "jupyter": {
          "outputs_hidden": false
        },
        "execution": {
          "iopub.status.busy": "2024-03-11T18:20:48.125457Z",
          "iopub.execute_input": "2024-03-11T18:20:48.125887Z",
          "iopub.status.idle": "2024-03-11T18:20:48.984063Z",
          "shell.execute_reply.started": "2024-03-11T18:20:48.125863Z",
          "shell.execute_reply": "2024-03-11T18:20:48.982722Z"
        },
        "trusted": true,
        "id": "zZ7LLL4_8eJG"
      },
      "execution_count": null,
      "outputs": []
    },
    {
      "cell_type": "code",
      "source": [
        "from tokenizers import ByteLevelBPETokenizer\n",
        "from torchtext.vocab import build_vocab_from_iterator\n",
        "def batch_iter():\n",
        "    for x in \"\".join(functions) + \"\".join(true_derivatives):\n",
        "        yield x\n",
        "\n",
        "specials = [\"<pad>\",\n",
        "    \"<unk>\",\n",
        "    \"<mask>\",]\n",
        "PAD_IDX = 0\n",
        "# vocab_tr = build_vocab_from_iterator(\n",
        "#     batch_iter(),\n",
        "#     min_freq=1,\n",
        "#     specials=specials,\n",
        "#     special_first=True\n",
        "# )\n",
        "\n",
        "tok = ByteLevelBPETokenizer()\n",
        "\n",
        "tok.train_from_iterator(\n",
        "    batch_iter(),\n",
        "    vocab_size=256,\n",
        "    min_frequency=2,\n",
        "    special_tokens=specials)\n",
        "tok.save(\"vocab.json\")"
      ],
      "metadata": {
        "_uuid": "5463fc0d-9bff-475b-bf97-fb78c95497c3",
        "_cell_guid": "98ecdb63-6dd9-491a-80fd-b92e1acb95af",
        "jupyter": {
          "outputs_hidden": false
        },
        "execution": {
          "iopub.status.busy": "2024-03-11T18:20:48.985474Z",
          "iopub.execute_input": "2024-03-11T18:20:48.98586Z",
          "iopub.status.idle": "2024-03-11T18:21:50.117097Z",
          "shell.execute_reply.started": "2024-03-11T18:20:48.985825Z",
          "shell.execute_reply": "2024-03-11T18:21:50.115651Z"
        },
        "trusted": true,
        "id": "CHQ_HcWT8eJH"
      },
      "execution_count": null,
      "outputs": []
    },
    {
      "cell_type": "code",
      "source": [
        "from transformers import PreTrainedTokenizerFast\n",
        "tokenizer = PreTrainedTokenizerFast(tokenizer_file=\"vocab.json\",\n",
        "                                    pad_token_id = PAD_IDX,\n",
        "                                    eos_token_id = PAD_IDX,\n",
        "                                    truncation=False,\n",
        "                                    padding=\"max_length\",\n",
        "                                    max_length=30,\n",
        "                                    return_type=\"pt\",\n",
        "                                   return_attention_mask=True)"
      ],
      "metadata": {
        "_uuid": "3ed29f6a-3aa4-4788-ab58-d0529ef1b597",
        "_cell_guid": "bfb6faa6-f662-48d2-802c-71050f436aa6",
        "jupyter": {
          "outputs_hidden": false
        },
        "execution": {
          "iopub.status.busy": "2024-03-11T18:21:50.118226Z",
          "iopub.execute_input": "2024-03-11T18:21:50.11906Z",
          "iopub.status.idle": "2024-03-11T18:21:51.339641Z",
          "shell.execute_reply.started": "2024-03-11T18:21:50.119024Z",
          "shell.execute_reply": "2024-03-11T18:21:51.338864Z"
        },
        "trusted": true,
        "id": "aIVnCbpM8eJI"
      },
      "execution_count": null,
      "outputs": []
    },
    {
      "cell_type": "code",
      "source": [
        "tokenizer.pad_token_id = PAD_IDX\n",
        "tokenizer.eos_token_id = PAD_IDX"
      ],
      "metadata": {
        "_uuid": "6e7b3a05-976f-4ef7-9847-e577d3eacd11",
        "_cell_guid": "3f4bd2a9-eac8-4f56-a116-f774daeb2e35",
        "jupyter": {
          "outputs_hidden": false
        },
        "execution": {
          "iopub.status.busy": "2024-03-11T18:21:51.340657Z",
          "iopub.execute_input": "2024-03-11T18:21:51.341143Z",
          "iopub.status.idle": "2024-03-11T18:21:51.345191Z",
          "shell.execute_reply.started": "2024-03-11T18:21:51.341116Z",
          "shell.execute_reply": "2024-03-11T18:21:51.344458Z"
        },
        "trusted": true,
        "id": "ffqd_yo18eJI"
      },
      "execution_count": null,
      "outputs": []
    },
    {
      "cell_type": "code",
      "source": [
        "tokenizer.encode(\"Hello\", padding=\"max_length\", max_length=30)"
      ],
      "metadata": {
        "_uuid": "cfcc1ba6-b8e3-4b28-b2b1-1efa8ce4b486",
        "_cell_guid": "f1801fbe-bf10-4798-bb62-3504818b6c0d",
        "jupyter": {
          "outputs_hidden": false
        },
        "execution": {
          "iopub.status.busy": "2024-03-11T18:21:51.348844Z",
          "iopub.execute_input": "2024-03-11T18:21:51.349119Z",
          "iopub.status.idle": "2024-03-11T18:21:51.360411Z",
          "shell.execute_reply.started": "2024-03-11T18:21:51.349095Z",
          "shell.execute_reply": "2024-03-11T18:21:51.359535Z"
        },
        "trusted": true,
        "id": "LIMAiOYg8eJI",
        "colab": {
          "base_uri": "https://localhost:8080/"
        },
        "outputId": "d857ed26-61f6-4885-dcfe-20de067e17f8"
      },
      "execution_count": null,
      "outputs": [
        {
          "output_type": "execute_result",
          "data": {
            "text/plain": [
              "[42,\n",
              " 71,\n",
              " 78,\n",
              " 78,\n",
              " 81,\n",
              " 0,\n",
              " 0,\n",
              " 0,\n",
              " 0,\n",
              " 0,\n",
              " 0,\n",
              " 0,\n",
              " 0,\n",
              " 0,\n",
              " 0,\n",
              " 0,\n",
              " 0,\n",
              " 0,\n",
              " 0,\n",
              " 0,\n",
              " 0,\n",
              " 0,\n",
              " 0,\n",
              " 0,\n",
              " 0,\n",
              " 0,\n",
              " 0,\n",
              " 0,\n",
              " 0,\n",
              " 0]"
            ]
          },
          "metadata": {},
          "execution_count": 11
        }
      ]
    },
    {
      "cell_type": "code",
      "source": [
        "# from transformers import T5Tokenizer\n",
        "# t = T5Tokenizer(vocab_file=\"vocab.json\")"
      ],
      "metadata": {
        "_uuid": "2c38eb52-8b03-4e3c-868e-97df71f4b66a",
        "_cell_guid": "c79008fb-c680-4ca5-9393-18861a176c3d",
        "jupyter": {
          "outputs_hidden": false
        },
        "execution": {
          "iopub.status.busy": "2024-03-11T18:21:51.361513Z",
          "iopub.execute_input": "2024-03-11T18:21:51.362033Z",
          "iopub.status.idle": "2024-03-11T18:21:51.366204Z",
          "shell.execute_reply.started": "2024-03-11T18:21:51.362001Z",
          "shell.execute_reply": "2024-03-11T18:21:51.365197Z"
        },
        "trusted": true,
        "id": "3C3Pfu7K8eJJ"
      },
      "execution_count": null,
      "outputs": []
    },
    {
      "cell_type": "markdown",
      "source": [
        "# Data"
      ],
      "metadata": {
        "_uuid": "0c75530d-c73d-46eb-a831-a3fd1a40f29d",
        "_cell_guid": "2ab582ea-f28a-4153-b42e-ec36b070e0ed",
        "trusted": true,
        "id": "9bPXCGJJ8eJJ"
      }
    },
    {
      "cell_type": "code",
      "source": [
        "from torch.nn.functional import pad\n",
        "import torch\n",
        "\n",
        "def tokenize(sample):\n",
        "    inp = tokenizer(sample[\"inp\"], padding=\"max_length\", max_length=30, return_tensors=\"pt\")\n",
        "    labels= tokenizer(sample[\"label\"], padding=\"max_length\", max_length=30, return_tensors=\"pt\").input_ids\n",
        "#     labels[labels == tokenizer.pad_token_id] = -100\n",
        "    return {\n",
        "        \"input_ids\": inp.input_ids[0],\n",
        "        \"attention_mask\": inp.attention_mask[0],\n",
        "        \"labels\":labels[0],\n",
        "    }"
      ],
      "metadata": {
        "_uuid": "d9a0c753-f61d-42ab-97fb-80b9cae62fa2",
        "_cell_guid": "d9031261-e5dc-4cd5-8fc8-3425460beb14",
        "jupyter": {
          "outputs_hidden": false
        },
        "execution": {
          "iopub.status.busy": "2024-03-11T18:21:51.36728Z",
          "iopub.execute_input": "2024-03-11T18:21:51.367576Z",
          "iopub.status.idle": "2024-03-11T18:21:51.376665Z",
          "shell.execute_reply.started": "2024-03-11T18:21:51.367553Z",
          "shell.execute_reply": "2024-03-11T18:21:51.375841Z"
        },
        "trusted": true,
        "id": "27x-DaFN8eJJ"
      },
      "execution_count": null,
      "outputs": []
    },
    {
      "cell_type": "code",
      "source": [
        "!pip install datasets"
      ],
      "metadata": {
        "id": "GuQu7rA7cXmq"
      },
      "execution_count": null,
      "outputs": []
    },
    {
      "cell_type": "code",
      "source": [
        "from datasets import Dataset\n",
        "ds = Dataset.from_dict({\"inp\": list(functions), \"label\": list(true_derivatives)})\n",
        "ds = ds.train_test_split(0.1)"
      ],
      "metadata": {
        "_uuid": "afb30503-efc7-4c61-b57c-1e56cb6b56c9",
        "_cell_guid": "91f17265-7695-4c1d-bb73-058d24d2939d",
        "jupyter": {
          "outputs_hidden": false
        },
        "execution": {
          "iopub.status.busy": "2024-03-11T18:21:51.377617Z",
          "iopub.execute_input": "2024-03-11T18:21:51.377862Z",
          "iopub.status.idle": "2024-03-11T18:21:52.300434Z",
          "shell.execute_reply.started": "2024-03-11T18:21:51.377841Z",
          "shell.execute_reply": "2024-03-11T18:21:52.299512Z"
        },
        "trusted": true,
        "id": "2xaisIvr8eJJ"
      },
      "execution_count": null,
      "outputs": []
    },
    {
      "cell_type": "code",
      "source": [
        "tok_ds = ds.map(tokenize).remove_columns([\"inp\", \"label\"])"
      ],
      "metadata": {
        "_uuid": "80bb5972-d9d0-44d8-849d-e5f0d421495f",
        "_cell_guid": "5589131a-203b-4909-9fc4-bef385eab3fd",
        "scrolled": true,
        "jupyter": {
          "outputs_hidden": false
        },
        "execution": {
          "iopub.status.busy": "2024-03-11T18:21:52.301574Z",
          "iopub.execute_input": "2024-03-11T18:21:52.301858Z",
          "iopub.status.idle": "2024-03-11T18:31:14.762401Z",
          "shell.execute_reply.started": "2024-03-11T18:21:52.301833Z",
          "shell.execute_reply": "2024-03-11T18:31:14.761528Z"
        },
        "trusted": true,
        "id": "dacxqDAk8eJJ",
        "colab": {
          "base_uri": "https://localhost:8080/",
          "height": 81,
          "referenced_widgets": [
            "17f727a245bb48109b770389d2a4d11e",
            "ad27682b56e9407d81e741a65c00f0f2",
            "b08a1d8157a54d369fc1b17937f7867b",
            "945e5eaf2a464bbfb4c116e7cae0dcae",
            "3fa32124f391448394100d50271b2ce0",
            "d981f64e11a940ceb9c59f4779b8f23f",
            "7c59414b841f49fd90f703739382d9a0",
            "2bd42f02ca8a4711a77cc06f58ce8156",
            "528b26acaec14f7a87eb1aff84b6c18c",
            "1e497fc307a442faad16522606215f22",
            "62cd2d85e70b46228839707d76a9544f",
            "48b795a4eaa4437eb5570571977e8f21",
            "d923ee02d482453ba8309c3bcb93f197",
            "0cf7a92ac61e438ab49e812c17f3ea10",
            "bd190c6fa320448bb631c46518d9fcad",
            "596d2673c4ca4d47a4e046bc781eef41",
            "43b30ca9b841471faf37933b90e2ff7d",
            "23ebae68e8374d47a32014e0e5b358b3",
            "2d0d967b8b694a8c8d1a79481a087f3a",
            "e5327deb30234caf97dd6fd6a7a16fa4",
            "af0dce6a7977488bab7417125ce7ea4d",
            "4ea709a778054086b3682106c74c9573"
          ]
        },
        "outputId": "0c8a90cf-853b-4969-9cfe-0d56500f1d6d"
      },
      "execution_count": null,
      "outputs": [
        {
          "output_type": "display_data",
          "data": {
            "text/plain": [
              "Map:   0%|          | 0/900000 [00:00<?, ? examples/s]"
            ],
            "application/vnd.jupyter.widget-view+json": {
              "version_major": 2,
              "version_minor": 0,
              "model_id": "17f727a245bb48109b770389d2a4d11e"
            }
          },
          "metadata": {}
        },
        {
          "output_type": "display_data",
          "data": {
            "text/plain": [
              "Map:   0%|          | 0/100000 [00:00<?, ? examples/s]"
            ],
            "application/vnd.jupyter.widget-view+json": {
              "version_major": 2,
              "version_minor": 0,
              "model_id": "48b795a4eaa4437eb5570571977e8f21"
            }
          },
          "metadata": {}
        }
      ]
    },
    {
      "cell_type": "code",
      "source": [
        "train_set = tok_ds[\"train\"].shuffle(seed=21)\n",
        "test_set = tok_ds[\"test\"].shuffle(seed=21)"
      ],
      "metadata": {
        "_uuid": "87f17f69-4c8f-4873-9887-0816258daaf5",
        "_cell_guid": "9cfcb158-0752-4996-be4c-f2457dac3046",
        "jupyter": {
          "outputs_hidden": false
        },
        "execution": {
          "iopub.status.busy": "2024-03-11T18:31:14.764399Z",
          "iopub.execute_input": "2024-03-11T18:31:14.764749Z",
          "iopub.status.idle": "2024-03-11T18:31:15.136759Z",
          "shell.execute_reply.started": "2024-03-11T18:31:14.764718Z",
          "shell.execute_reply": "2024-03-11T18:31:15.135732Z"
        },
        "trusted": true,
        "id": "aF__gwc68eJJ"
      },
      "execution_count": null,
      "outputs": []
    },
    {
      "cell_type": "markdown",
      "source": [
        "# HyperParameters"
      ],
      "metadata": {
        "id": "WYKfq7aH8eJK"
      }
    },
    {
      "cell_type": "code",
      "source": [
        "batch_size=512\n",
        "MAX_LENGTH = 30\n",
        "hidden_size = 128\n",
        "n_layers = 4"
      ],
      "metadata": {
        "execution": {
          "iopub.status.busy": "2024-03-11T18:31:15.138186Z",
          "iopub.execute_input": "2024-03-11T18:31:15.138543Z",
          "iopub.status.idle": "2024-03-11T18:31:15.143378Z",
          "shell.execute_reply.started": "2024-03-11T18:31:15.138511Z",
          "shell.execute_reply": "2024-03-11T18:31:15.14222Z"
        },
        "trusted": true,
        "id": "niAZG59W8eJK"
      },
      "execution_count": null,
      "outputs": []
    },
    {
      "cell_type": "code",
      "source": [
        "CONFIG = dict (\n",
        "    model_name = \"GRU\",\n",
        "    hidden_size=hidden_size,\n",
        "    epochs=100,\n",
        "    batch_size=batch_size,\n",
        "    n_layers=n_layers\n",
        "    )\n",
        "\n"
      ],
      "metadata": {
        "execution": {
          "iopub.status.busy": "2024-03-11T18:31:15.144484Z",
          "iopub.execute_input": "2024-03-11T18:31:15.144754Z",
          "iopub.status.idle": "2024-03-11T18:31:15.154521Z",
          "shell.execute_reply.started": "2024-03-11T18:31:15.14473Z",
          "shell.execute_reply": "2024-03-11T18:31:15.153698Z"
        },
        "trusted": true,
        "id": "-rncPU6_8eJK"
      },
      "execution_count": null,
      "outputs": []
    },
    {
      "cell_type": "markdown",
      "source": [
        "# Model"
      ],
      "metadata": {
        "_uuid": "eae23345-46f4-4f56-85d3-853642ffa941",
        "_cell_guid": "00d81ab0-5bfa-4216-b3dd-78e2fa1bbd63",
        "trusted": true,
        "id": "ziO00Z-d8eJK"
      }
    },
    {
      "cell_type": "code",
      "source": [
        "import torch.nn as nn\n",
        "import torch.nn.functional as F\n",
        "class EncoderRNN(nn.Module):\n",
        "    def __init__(self, hidden_size, dropout_p=0.1):\n",
        "        super(EncoderRNN, self).__init__()\n",
        "        self.hidden_size = hidden_size\n",
        "\n",
        "        self.embedding = nn.Embedding(tokenizer.vocab_size, hidden_size)\n",
        "        self.gru = nn.GRU(hidden_size, hidden_size, batch_first=True, num_layers=n_layers)\n",
        "        self.dropout = nn.Dropout(dropout_p)\n",
        "\n",
        "    def forward(self, inp):\n",
        "#         print(input.shape)\n",
        "#         print(self.embedding)\n",
        "        embedded = self.dropout(self.embedding(inp))\n",
        "        output, hidden = self.gru(embedded)\n",
        "        return output, hidden"
      ],
      "metadata": {
        "_uuid": "ad72d2b8-cefa-45fb-b2f5-dcd305161e0f",
        "_cell_guid": "3b16a672-97e6-4be8-8708-547718667dbe",
        "jupyter": {
          "outputs_hidden": false
        },
        "execution": {
          "iopub.status.busy": "2024-03-11T18:31:15.155664Z",
          "iopub.execute_input": "2024-03-11T18:31:15.15595Z",
          "iopub.status.idle": "2024-03-11T18:31:15.166286Z",
          "shell.execute_reply.started": "2024-03-11T18:31:15.155926Z",
          "shell.execute_reply": "2024-03-11T18:31:15.165435Z"
        },
        "trusted": true,
        "id": "ZzbS_Uow8eJK"
      },
      "execution_count": null,
      "outputs": []
    },
    {
      "cell_type": "code",
      "source": [
        "encoder = EncoderRNN(hidden_size).to(device)"
      ],
      "metadata": {
        "execution": {
          "iopub.status.busy": "2024-03-11T18:31:15.167317Z",
          "iopub.execute_input": "2024-03-11T18:31:15.167601Z",
          "iopub.status.idle": "2024-03-11T18:31:15.528812Z",
          "shell.execute_reply.started": "2024-03-11T18:31:15.167578Z",
          "shell.execute_reply": "2024-03-11T18:31:15.528015Z"
        },
        "trusted": true,
        "id": "NsCjCj7T8eJK"
      },
      "execution_count": null,
      "outputs": []
    },
    {
      "cell_type": "code",
      "source": [
        "class DecoderRNN(nn.Module):\n",
        "    def __init__(self, hidden_size):\n",
        "        super(DecoderRNN, self).__init__()\n",
        "        self.embedding = nn.Embedding(tokenizer.vocab_size, hidden_size)\n",
        "        self.gru = nn.GRU(hidden_size, hidden_size, batch_first=True, num_layers=n_layers)\n",
        "        self.out = nn.Linear(hidden_size, tokenizer.vocab_size)\n",
        "\n",
        "    def forward(self, encoder_outputs, encoder_hidden, target_tensor=None):\n",
        "        batch_size = encoder_outputs.size(0)\n",
        "        decoder_input = torch.empty(batch_size, 1, dtype=torch.long, device=device).fill_(PAD_IDX)\n",
        "        decoder_hidden = encoder_hidden\n",
        "        decoder_outputs = []\n",
        "\n",
        "        for i in range(MAX_LENGTH):\n",
        "            decoder_output, decoder_hidden  = self.forward_step(decoder_input, decoder_hidden)\n",
        "            decoder_outputs.append(decoder_output)\n",
        "\n",
        "            if target_tensor is not None:\n",
        "                # Teacher forcing: Feed the target as the next input\n",
        "                decoder_input = target_tensor[:, i].unsqueeze(1) # Teacher forcing\n",
        "            else:\n",
        "                # Without teacher forcing: use its own predictions as the next input\n",
        "                _, topi = decoder_output.topk(1)\n",
        "                decoder_input = topi.squeeze(-1).detach()  # detach from history as input\n",
        "\n",
        "        decoder_outputs = torch.cat(decoder_outputs, dim=1)\n",
        "        decoder_outputs = F.log_softmax(decoder_outputs, dim=-1)\n",
        "        return decoder_outputs, decoder_hidden, None # We return `None` for consistency in the training loop\n",
        "\n",
        "    def forward_step(self, inp, hidden):\n",
        "        output = self.embedding(inp)\n",
        "        output = F.relu(output)\n",
        "        output, hidden = self.gru(output, hidden)\n",
        "        output = self.out(output)\n",
        "        return output, hidden"
      ],
      "metadata": {
        "execution": {
          "iopub.status.busy": "2024-03-11T18:31:15.530039Z",
          "iopub.execute_input": "2024-03-11T18:31:15.530469Z",
          "iopub.status.idle": "2024-03-11T18:31:15.541665Z",
          "shell.execute_reply.started": "2024-03-11T18:31:15.530437Z",
          "shell.execute_reply": "2024-03-11T18:31:15.540729Z"
        },
        "trusted": true,
        "id": "qxy8Yo398eJK"
      },
      "execution_count": null,
      "outputs": []
    },
    {
      "cell_type": "code",
      "source": [
        "decoder = DecoderRNN(hidden_size).to(device)"
      ],
      "metadata": {
        "execution": {
          "iopub.status.busy": "2024-03-11T18:31:15.542817Z",
          "iopub.execute_input": "2024-03-11T18:31:15.543157Z",
          "iopub.status.idle": "2024-03-11T18:31:15.565151Z",
          "shell.execute_reply.started": "2024-03-11T18:31:15.543132Z",
          "shell.execute_reply": "2024-03-11T18:31:15.564252Z"
        },
        "trusted": true,
        "id": "Mm2rRXd58eJL"
      },
      "execution_count": null,
      "outputs": []
    },
    {
      "cell_type": "code",
      "source": [
        "# sum(p.numel() for p in encoder.parameters() if p.requires_grad)\n",
        "s1 = sum(p.numel() for p in decoder.parameters() if p.requires_grad)\n",
        "s2 = sum(p.numel() for p in encoder.parameters() if p.requires_grad)\n",
        "print(f\"{s1} + {s2} = {s1 + s2}\")\n"
      ],
      "metadata": {
        "execution": {
          "iopub.status.busy": "2024-03-11T18:31:15.566456Z",
          "iopub.execute_input": "2024-03-11T18:31:15.567128Z",
          "iopub.status.idle": "2024-03-11T18:31:15.573076Z",
          "shell.execute_reply.started": "2024-03-11T18:31:15.567093Z",
          "shell.execute_reply": "2024-03-11T18:31:15.572182Z"
        },
        "trusted": true,
        "id": "31kNmlZ08eJL",
        "colab": {
          "base_uri": "https://localhost:8080/"
        },
        "outputId": "269c7747-dccb-4128-917b-f1969512b82a"
      },
      "execution_count": null,
      "outputs": [
        {
          "output_type": "stream",
          "name": "stdout",
          "text": [
            "462851 + 429440 = 892291\n"
          ]
        }
      ]
    },
    {
      "cell_type": "markdown",
      "source": [
        "# Trainer"
      ],
      "metadata": {
        "id": "haW7zhQF8eJL"
      }
    },
    {
      "cell_type": "code",
      "source": [
        "from torch.utils.data import DataLoader\n",
        "from transformers import DataCollatorForSeq2Seq\n",
        "train_loader = DataLoader(\n",
        "    train_set,\n",
        "    batch_size=batch_size,\n",
        "    shuffle=True,\n",
        "    drop_last=True,\n",
        "#     collate_fn = DataCollatorForSeq2Seq(tokenizer, padding=False,\n",
        "#                            label_pad_token_id = PAD_IDX)\n",
        ")\n",
        "test_loader = DataLoader(\n",
        "    test_set,\n",
        "    batch_size=batch_size,\n",
        "    shuffle=True,\n",
        "    drop_last=True,\n",
        "#     collate_fn = DataCollatorForSeq2Seq(tokenizer, padding=False,\n",
        "#                            label_pad_token_id = PAD_IDX)\n",
        ")"
      ],
      "metadata": {
        "execution": {
          "iopub.status.busy": "2024-03-11T18:31:15.574208Z",
          "iopub.execute_input": "2024-03-11T18:31:15.574507Z",
          "iopub.status.idle": "2024-03-11T18:31:26.126645Z",
          "shell.execute_reply.started": "2024-03-11T18:31:15.574484Z",
          "shell.execute_reply": "2024-03-11T18:31:26.12578Z"
        },
        "trusted": true,
        "id": "MAWExczc8eJL"
      },
      "execution_count": null,
      "outputs": []
    },
    {
      "cell_type": "code",
      "source": [
        "from tqdm.auto import tqdm\n",
        "def train_epoch(dataloader, encoder, decoder, encoder_optimizer,\n",
        "          decoder_optimizer, criterion):\n",
        "\n",
        "    total_loss = 0\n",
        "    for data in tqdm(dataloader, leave=False):\n",
        "        input_tensor = torch.stack(data[\"input_ids\"])\n",
        "        target_tensor = torch.stack(data[\"labels\"])\n",
        "\n",
        "        input_tensor = input_tensor.transpose(0, 1).to(device)\n",
        "        target_tensor = target_tensor.transpose(0, 1).to(device)\n",
        "#         input_tensor, target_tensor = data\n",
        "\n",
        "        encoder_optimizer.zero_grad()\n",
        "        decoder_optimizer.zero_grad()\n",
        "\n",
        "        encoder_outputs, encoder_hidden = encoder(input_tensor)\n",
        "\n",
        "        decoder_outputs, _, _ = decoder(encoder_outputs, encoder_hidden, target_tensor)\n",
        "\n",
        "        oh = F.one_hot(target_tensor, tokenizer.vocab_size).float()\n",
        "        loss = criterion(\n",
        "            decoder_outputs.view(-1, decoder_outputs.size(-1)),\n",
        "            oh.view(-1, oh.size(-1))\n",
        "        )\n",
        "        loss.backward()\n",
        "\n",
        "        encoder_optimizer.step()\n",
        "        decoder_optimizer.step()\n",
        "\n",
        "        total_loss += loss.item()\n",
        "\n",
        "    return total_loss / len(dataloader)\n"
      ],
      "metadata": {
        "_uuid": "e0d875f6-2747-40c1-b394-f023ab5c3e0a",
        "_cell_guid": "545f1723-d180-4c1e-9e74-e417399ef437",
        "jupyter": {
          "outputs_hidden": false
        },
        "execution": {
          "iopub.status.busy": "2024-03-11T18:31:26.366272Z",
          "iopub.execute_input": "2024-03-11T18:31:26.366571Z",
          "iopub.status.idle": "2024-03-11T18:31:26.375508Z",
          "shell.execute_reply.started": "2024-03-11T18:31:26.366546Z",
          "shell.execute_reply": "2024-03-11T18:31:26.374542Z"
        },
        "trusted": true,
        "id": "aWsh2b2c8eJM"
      },
      "execution_count": null,
      "outputs": []
    },
    {
      "cell_type": "code",
      "source": [
        "def compute_metrics(pred):\n",
        "\n",
        "    eq =  []\n",
        "    ac = []\n",
        "    reference = references[0]\n",
        "\n",
        "    gen_text = generated_texts[0]\n",
        "\n",
        "    for reference, gen_text in zip(references, generated_texts):\n",
        "\n",
        "        ref = tokenizer.decode(reference, skip_special_tokens=True)\n",
        "        preds = tokenizer.decode(gen_text, skip_special_tokens=True)\n",
        "        eq.append(\"\".join(ref) == \"\".join(preds))\n",
        "        ac.append(sum([x == y for x, y in zip(ref, preds)]) / 30)\n",
        "    return {\n",
        "        'equality': sum(eq)/len(eq),\n",
        "        \"accuracy\": sum(ac)/len(ac)\n",
        "    }"
      ],
      "metadata": {
        "_uuid": "fb29d331-c4db-4ae9-81a9-cbef1f5a450a",
        "_cell_guid": "c451683e-5774-4f93-ae87-1ebbf452ce90",
        "jupyter": {
          "outputs_hidden": false
        },
        "execution": {
          "iopub.status.busy": "2024-03-11T18:31:26.376775Z",
          "iopub.execute_input": "2024-03-11T18:31:26.377073Z",
          "iopub.status.idle": "2024-03-11T18:31:26.386607Z",
          "shell.execute_reply.started": "2024-03-11T18:31:26.377037Z",
          "shell.execute_reply": "2024-03-11T18:31:26.385674Z"
        },
        "trusted": true,
        "id": "HRSI43E28eJM"
      },
      "execution_count": null,
      "outputs": []
    },
    {
      "cell_type": "code",
      "source": [
        "def eval_epoch(dataloader, encoder, decoder, criterion):\n",
        "\n",
        "    total_loss = 0\n",
        "    total_eq = 0\n",
        "    total_ac = 0\n",
        "    encoder.eval()\n",
        "    decoder.eval()\n",
        "    with torch.no_grad():\n",
        "        for data in tqdm(dataloader, leave=False):\n",
        "            input_tensor = torch.stack(data[\"input_ids\"])\n",
        "            target_tensor = torch.stack(data[\"labels\"])\n",
        "\n",
        "            input_tensor = input_tensor.transpose(0, 1).to(device)\n",
        "            target_tensor = target_tensor.transpose(0, 1).to(device)\n",
        "\n",
        "            encoder_outputs, encoder_hidden = encoder(input_tensor)\n",
        "\n",
        "            decoder_outputs, _, _ = decoder(encoder_outputs, encoder_hidden)\n",
        "\n",
        "            oh = F.one_hot(target_tensor, tokenizer.vocab_size).float()\n",
        "            loss = criterion(\n",
        "                decoder_outputs.view(-1, decoder_outputs.size(-1)),\n",
        "                oh.view(-1, oh.size(-1))\n",
        "            )\n",
        "            _, topi = decoder_outputs.topk(1)\n",
        "            output = tokenizer.batch_decode(topi.squeeze(), skip_special_tokens = True)\n",
        "\n",
        "            if total_loss == 0:\n",
        "                print(output[0])\n",
        "                print(tokenizer.batch_decode(target_tensor, skip_special_tokens=True)[0])\n",
        "\n",
        "            total_loss += loss.item()\n",
        "            total_eq += torch.all(topi.squeeze() == target_tensor, dim=-1)\n",
        "            total_ac += torch.sum(topi.squeeze() == target_tensor) / 30\n",
        "    encoder.train()\n",
        "    decoder.train()\n",
        "    return {\"valid_loss\": total_loss / len(dataloader),\n",
        "            \"equality\": torch.sum(total_eq) / (len(dataloader) * batch_size),\n",
        "            \"accuracy\": total_ac / (len(dataloader)*batch_size)}"
      ],
      "metadata": {
        "_uuid": "c3babde2-b599-4ce6-bf8f-da83c4aaeb32",
        "_cell_guid": "0eec6f4e-1bb7-40fb-970f-a499f57f5b8e",
        "jupyter": {
          "outputs_hidden": false
        },
        "execution": {
          "iopub.status.busy": "2024-03-11T18:31:26.38775Z",
          "iopub.execute_input": "2024-03-11T18:31:26.388049Z",
          "iopub.status.idle": "2024-03-11T18:31:26.400577Z",
          "shell.execute_reply.started": "2024-03-11T18:31:26.388013Z",
          "shell.execute_reply": "2024-03-11T18:31:26.399713Z"
        },
        "trusted": true,
        "id": "FV4e1qWD8eJM"
      },
      "execution_count": null,
      "outputs": []
    },
    {
      "cell_type": "code",
      "source": [
        "import time\n",
        "import math\n",
        "\n",
        "def asMinutes(s):\n",
        "    m = math.floor(s / 60)\n",
        "    s -= m * 60\n",
        "    return '%dm %ds' % (m, s)\n",
        "\n",
        "def timeSince(since, percent):\n",
        "    now = time.time()\n",
        "    s = now - since\n",
        "    es = s / (percent)\n",
        "    rs = es - s\n",
        "    return '%s (- %s)' % (asMinutes(s), asMinutes(rs))"
      ],
      "metadata": {
        "execution": {
          "iopub.status.busy": "2024-03-11T18:31:26.405062Z",
          "iopub.execute_input": "2024-03-11T18:31:26.405351Z",
          "iopub.status.idle": "2024-03-11T18:31:26.411636Z",
          "shell.execute_reply.started": "2024-03-11T18:31:26.405326Z",
          "shell.execute_reply": "2024-03-11T18:31:26.410698Z"
        },
        "trusted": true,
        "id": "6WUE89Jz8eJN"
      },
      "execution_count": null,
      "outputs": []
    },
    {
      "cell_type": "code",
      "source": [
        "import time\n",
        "import torch.optim as optim\n",
        "\n",
        "def train(train_dataloader, eval_dataloader, encoder, decoder, n_epochs, learning_rate=0.001,\n",
        "               print_every=1, plot_every=100):\n",
        "    wandb.init(config=CONFIG, entity=\"hj51\", project=\"grad_rnn\")\n",
        "    start = time.time()\n",
        "    plot_losses = []\n",
        "    print_loss_total = 0  # Reset every print_every\n",
        "    plot_loss_total = 0  # Reset every plot_every\n",
        "\n",
        "    encoder_optimizer = optim.Adam(encoder.parameters(), lr=learning_rate)\n",
        "    decoder_optimizer = optim.Adam(decoder.parameters(), lr=learning_rate)\n",
        "    criterion = nn.CrossEntropyLoss()\n",
        "\n",
        "    for epoch in (pbar := tqdm(range(1, n_epochs + 1))):\n",
        "\n",
        "        loss = train_epoch(train_dataloader, encoder, decoder, encoder_optimizer, decoder_optimizer, criterion)\n",
        "        print_loss_total += loss\n",
        "        plot_loss_total += loss\n",
        "        wandb.log({\"train_loss\": loss, \"train_epoch\": epoch})\n",
        "        pbar.set_description(f\"Loss = {float(loss)}\")\n",
        "\n",
        "        res = eval_epoch(eval_dataloader, encoder, decoder, criterion)\n",
        "        wandb.log(res)\n",
        "        print(res)\n",
        "\n",
        "\n",
        "    wandb.finish()\n"
      ],
      "metadata": {
        "_uuid": "1bbe1ddc-c5ed-4575-9326-8443b970bc27",
        "_cell_guid": "d2afa806-edbb-4340-9565-1462d9c45e65",
        "jupyter": {
          "outputs_hidden": false
        },
        "execution": {
          "iopub.status.busy": "2024-03-11T18:31:26.412845Z",
          "iopub.execute_input": "2024-03-11T18:31:26.413437Z",
          "iopub.status.idle": "2024-03-11T18:31:26.425772Z",
          "shell.execute_reply.started": "2024-03-11T18:31:26.413405Z",
          "shell.execute_reply": "2024-03-11T18:31:26.424954Z"
        },
        "trusted": true,
        "id": "2YRAOfgQ8eJN"
      },
      "execution_count": null,
      "outputs": []
    },
    {
      "cell_type": "code",
      "source": [
        "train(train_loader, test_loader, encoder, decoder, n_epochs=10)"
      ],
      "metadata": {
        "execution": {
          "iopub.status.busy": "2024-03-11T18:31:26.426991Z",
          "iopub.execute_input": "2024-03-11T18:31:26.427324Z",
          "iopub.status.idle": "2024-03-11T18:40:35.912295Z",
          "shell.execute_reply.started": "2024-03-11T18:31:26.427293Z",
          "shell.execute_reply": "2024-03-11T18:40:35.911529Z"
        },
        "trusted": true,
        "id": "KFcs_IiX8eJO"
      },
      "execution_count": null,
      "outputs": []
    },
    {
      "cell_type": "code",
      "source": [
        "torch.save(encoder, \"encoder_model_gru.pth\")\n",
        "torch.save(decoder, \"decoder_model_gru.pth\")"
      ],
      "metadata": {
        "_uuid": "4879797d-cf70-4785-bade-deb90945fe73",
        "_cell_guid": "96da56f5-74a7-4c62-a6b1-47ed216fdd6a",
        "jupyter": {
          "outputs_hidden": false
        },
        "execution": {
          "iopub.status.busy": "2024-03-11T18:40:35.913461Z",
          "iopub.execute_input": "2024-03-11T18:40:35.913732Z",
          "iopub.status.idle": "2024-03-11T18:40:35.91759Z",
          "shell.execute_reply.started": "2024-03-11T18:40:35.913708Z",
          "shell.execute_reply": "2024-03-11T18:40:35.916744Z"
        },
        "trusted": true,
        "id": "0rpS7wVU8eJP"
      },
      "execution_count": null,
      "outputs": []
    },
    {
      "cell_type": "code",
      "source": [],
      "metadata": {
        "_uuid": "ed3674ce-fc04-49a8-b7c4-253bc7aff4af",
        "_cell_guid": "fc92e0af-4d5a-4625-8ed2-6c48cb7d0621",
        "jupyter": {
          "outputs_hidden": false
        },
        "trusted": true,
        "id": "ycDH8sLc8eJP"
      },
      "execution_count": null,
      "outputs": []
    }
  ]
}